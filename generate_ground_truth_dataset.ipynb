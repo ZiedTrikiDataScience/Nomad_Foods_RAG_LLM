{
 "cells": [
  {
   "cell_type": "code",
   "execution_count": 30,
   "metadata": {},
   "outputs": [],
   "source": [
    "import hashlib\n",
    "import json\n",
    "import os \n",
    "from sentence_transformers import SentenceTransformer\n",
    "import mistralai\n",
    "from mistralai import Mistral"
   ]
  },
  {
   "cell_type": "code",
   "execution_count": 31,
   "metadata": {},
   "outputs": [
    {
     "name": "stdout",
     "output_type": "stream",
     "text": [
      "FAQ data with IDs saved to faq_data_with_ids.json\n"
     ]
    }
   ],
   "source": [
    "def generate_document_id(doc):\n",
    "    combined = f\"{doc['category']}-{doc['question']}-{doc['answer'][:10]}\"\n",
    "    hash_object = hashlib.md5(combined.encode())\n",
    "    hash_hex = hash_object.hexdigest()\n",
    "    document_id = hash_hex[:8]\n",
    "    return document_id\n",
    "\n",
    "def add_ids_to_faqs(data):\n",
    "    for category_data in data[\"faq_data\"]:\n",
    "        for question_data in category_data[\"questions\"]:\n",
    "            doc = {\n",
    "                \"category\": category_data[\"category\"],\n",
    "                \"question\": question_data[\"question\"],\n",
    "                \"answer\": question_data[\"answer\"]\n",
    "            }\n",
    "            question_data[\"id\"] = generate_document_id(doc)\n",
    "\n",
    "def save_data_with_ids(data, file_name):\n",
    "    with open(file_name, \"w\") as f:\n",
    "        json.dump(data, f, indent=4)\n",
    "\n",
    "# Load the existing JSON data\n",
    "with open('faq_data.json', 'r') as f:\n",
    "    faq_data = json.load(f)\n",
    "\n",
    "# Add document IDs\n",
    "add_ids_to_faqs(faq_data)\n",
    "\n",
    "# Save the updated data with IDs\n",
    "save_data_with_ids(faq_data, 'faq_data_with_ids.json')\n",
    "\n",
    "print(\"FAQ data with IDs saved to faq_data_with_ids.json\")\n"
   ]
  },
  {
   "cell_type": "code",
   "execution_count": 32,
   "metadata": {},
   "outputs": [],
   "source": [
    "client = Mistral(api_key=  os.getenv('MISTRAL_API_KEY'))"
   ]
  },
  {
   "cell_type": "code",
   "execution_count": 33,
   "metadata": {},
   "outputs": [],
   "source": [
    "prompt_template = \"\"\"\n",
    "You emulate a user who wants to ask question to the NomadFood chatbot about the company.\n",
    "Formulate 5 questions this user might ask based on a FAQ record. The record\n",
    "should contain the answer to the questions, and the questions should be complete and not too short.\n",
    "If possible, use as fewer words as possible from the record. \n",
    "\n",
    "The record:\n",
    "\n",
    "\n",
    "question: {question}\n",
    "answer: {answer}\n",
    "\n",
    "Provide the output in parsable JSON without using code blocks:\n",
    "\n",
    "[\"question1\", \"question2\"]\n",
    "\"\"\".strip()"
   ]
  },
  {
   "cell_type": "code",
   "execution_count": 34,
   "metadata": {},
   "outputs": [],
   "source": [
    "def generate_questions(doc):\n",
    "    prompt = prompt_template.format(**doc)\n",
    "\n",
    "    response = client.chat.complete(\n",
    "        model=\"mistral-large-latest\",\n",
    "        messages=[\n",
    "            {\"role\": \"user\", \"content\": prompt}]\n",
    "    )\n",
    "\n",
    "    json_response = response.choices[0].message.content.strip()\n",
    "    return json_response"
   ]
  },
  {
   "cell_type": "code",
   "execution_count": 44,
   "metadata": {},
   "outputs": [
    {
     "data": {
      "application/vnd.jupyter.widget-view+json": {
       "model_id": "724313ad361548ca9bba563b4d7b9b61",
       "version_major": 2,
       "version_minor": 0
      },
      "text/plain": [
       "  0%|          | 0/4 [00:00<?, ?it/s]"
      ]
     },
     "metadata": {},
     "output_type": "display_data"
    }
   ],
   "source": [
    "import json\n",
    "import pandas as pd\n",
    "import pickle\n",
    "import re\n",
    "from tqdm.auto import tqdm\n",
    "\n",
    "# Function to clean improperly escaped JSON strings\n",
    "def clean_escaped_json_string(json_string):\n",
    "    # Remove excessive escaping of quotes (replacing \\\\\" with \")\n",
    "    cleaned_string = re.sub(r'\\\\\"', '\"', json_string)\n",
    "    \n",
    "    # Remove extra surrounding quotes if they exist\n",
    "    if cleaned_string.startswith('\"') and cleaned_string.endswith('\"'):\n",
    "        cleaned_string = cleaned_string[1:-1]\n",
    "    \n",
    "    return cleaned_string\n",
    "\n",
    "# Initialize results dictionary\n",
    "results = {}\n",
    "\n",
    "# Iterate over each category in faq_data\n",
    "for category_data in tqdm(faq_data['faq_data']):  \n",
    "    category = category_data['category']  # Access the category name\n",
    "    for question_data in category_data['questions']:  # Iterate over questions in each category\n",
    "        doc_id = question_data['id']  # Get the ID of each question\n",
    "        \n",
    "        # Clean the question data if it is a string\n",
    "        if isinstance(question_data, str):\n",
    "            question_data = clean_escaped_json_string(question_data)\n",
    "\n",
    "        # Generate questions based on the data\n",
    "        questions = generate_questions(question_data)  # Ensure this function handles the cleaned question data\n",
    "        results[doc_id] = questions  # Store the result with the question ID as the key\n",
    "\n",
    "# Save the results\n",
    "with open('results.bin', 'wb') as f_out:\n",
    "    pickle.dump(results, f_out)\n",
    "\n",
    "# Load the results later if needed\n",
    "with open('results.bin', 'rb') as f_in:\n",
    "    results = pickle.load(f_in)\n"
   ]
  },
  {
   "cell_type": "code",
   "execution_count": 53,
   "metadata": {},
   "outputs": [
    {
     "data": {
      "text/plain": [
       "{'e063fa64': '[\\n\"What kinds of food products does NomadFood offer?\",\\n\"Can you tell me about the different categories of food products that NomadFood sells?\",\\n\"Who are the suppliers for NomadFood\\'s dairy products?\",\\n\"Does NomadFood carry both fresh and frozen meat products?\",\\n\"What types of packaged foods can I find in NomadFood\\'s inventory?\"\\n]',\n",
       " '2bdb70ae': '[\\n\"Are all of NomadFood\\'s products organic?\",\\n\"Does NomadFood offer non-organic products?\",\\n\"What certifies NomadFood\\'s organic products?\",\\n\"How are NomadFood\\'s organic products grown?\",\\n\"What alternatives does NomadFood provide for budget-conscious consumers?\"\\n]',\n",
       " 'e7bf8de2': '[\\n\"How does NomadFood ensure the freshness of their products during transportation?\",\\n\"What measures has NomadFood taken to control the temperature of their products during storage?\",\\n\"Can you explain how NomadFood\\'s supply chain contributes to product freshness?\",\\n\"How does NomadFood\\'s logistics team help keep perishable items fresh?\",\\n\"What steps does NomadFood take to minimize the time it takes to deliver fresh products?\"\\n]',\n",
       " 'fc0ac1ca': '[\\n\"Do you provide any gluten-free food options?\",\\n\"Are there any products in your range that are gluten-free?\",\\n\"Can I find gluten-free bread and pasta at NomadFood?\",\\n\"Does NomadFood offer gluten-free snacks and baked goods?\",\\n\"Are NomadFood\\'s gluten-free products tested for gluten-free labeling standards?\"\\n]',\n",
       " '43d24641': '[\\n\"Are there any locally sourced products available at NomadFood?\",\\n\"Does NomadFood support local agriculture?\",\\n\"Can you tell me more about NomadFood\\'s \\'Local Harvest\\' program?\",\\n\"How does NomadFood\\'s sourcing policy benefit the environment?\",\\n\"What percentage of NomadFood\\'s products come from local farmers?\"\\n]',\n",
       " '7d2d98d4': '[\\n\"What types of diets do NomadFood\\'s products accommodate?\",\\n\"Does NomadFood offer options for vegan and vegetarian diets?\",\\n\"Are there any high-protein products available for keto and paleo diets?\",\\n\"Can I find low-sodium and heart-healthy options in NomadFood\\'s product range?\",\\n\"Are allergen-free products available in NomadFood\\'s catalog?\"\\n]',\n",
       " 'a25036a3': '{\\n\"questions\": [\\n\"What areas does NomadFood cover for delivery?\",\\n\"In what locations does NomadFood deliver?\",\\n\"How does NomadFood handle deliveries to remote areas?\",\\n\"Does NomadFood deliver to all cities and towns?\",\\n\"What is the delivery coverage of NomadFood?\"\\n]\\n}',\n",
       " 'e890e7e0': '[\\n\"What is the delivery time for major cities?\",\\n\"How long does it take for remote locations to receive their orders?\",\\n\"What time should I place my order to receive it the next business day in major cities?\",\\n\"Can delivery times be affected by the volume of my order?\",\\n\"How does NomadFood ensure that orders are delivered on time?\"\\n]',\n",
       " '4bfd22ad': '[\\n\"How can I track my order with NomadFood?\",\\n\"Is it possible to get updates on my delivery status through NomadFood?\",\\n\"What information will I receive after my NomadFood order is confirmed?\",\\n\"Where can I find the tracking number for my NomadFood order?\",\\n\"How do I get real-time updates on my NomadFood delivery?\"\\n]',\n",
       " '17c3432c': '[\\n\"How does NomadFood ensure the quality of perishable items during delivery?\",\\n\"What measures does NomadFood take to protect sensitive products during transit?\",\\n\"How does NomadFood maintain the right conditions for fresh produce, dairy, and frozen goods during delivery?\",\\n\"In what way does NomadFood use temperature-controlled vehicles and insulated packaging?\",\\n\"How does NomadFood guarantee that perishable products arrive fresh and in optimal condition?\"\\n]',\n",
       " '7e487efb': '[\\n\"What will NomadFood do if I\\'m not present to accept my delivery?\",\\n\"How does NomadFood handle perishable goods if I\\'m not available for delivery?\",\\n\"What measures does NomadFood take to ensure the safety of my delivery when I\\'m not home?\",\\n\"What should I do if I have an issue with my delivery when I\\'m not available?\",\\n\"Can I reschedule my delivery if I\\'m unable to receive my package from NomadFood?\"\\n]',\n",
       " '4fe624c6': '[\\n\"Do you have special pricing for large retail orders?\",\\n\"Is it possible to get discounts on orders if I\\'m a retailer?\",\\n\"How does NomadFood\\'s bulk pricing for retailers work?\",\\n\"What kind of pricing does NomadFood offer for larger retail orders?\",\\n\"How can I get a customized pricing plan for my retail business from NomadFood?\"\\n]',\n",
       " '4950626e': '[\\n\"What types of credit cards does NomadFood accept?\",\\n\"Does NomadFood take wire transfers as a payment method?\",\\n\"Is it possible to pay with PayPal on NomadFood?\",\\n\"What other secure payment platforms does NomadFood accept?\",\\n\"Do retailers with established credit terms have the option for invoicing with NomadFood?\"\\n]',\n",
       " '61885111': '[\\n\"Does NomadFood have a minimum order requirement for their deliveries?\",\\n\"What is the minimum order value for nationwide deliveries at NomadFood?\",\\n\"What is the local deliveries minimum order requirement at NomadFood?\",\\n\"How does NomadFood maintain affordable pricing and logistical efficiency?\",\\n\"In what way does NomadFood ensure high-quality products and efficient delivery service?\"\\n]',\n",
       " '44413b49': '[\\n\"Is it possible to get a refund for products that arrived damaged?\",\\n\"What should I do if the delivered food is damaged?\",\\n\"How does NomadFood handle compensation for damaged items?\",\\n\"What is the process for returning damaged products for a refund?\",\\n\"Can I get a replacement or a refund for a damaged order?\"\\n]',\n",
       " '3c901cb6': '[\\n\"Do you have a rewards program for frequent purchases?\",\\n\"Is there a program that gives benefits for retailers with increasing order volume?\",\\n\"What perks do I get with priority delivery as a loyalty program member?\",\\n\"Can I access new products before they\\'re available to the public through the loyalty program?\",\\n\"Are there exclusive promotions for retailers who are part of the loyalty program?\"\\n]',\n",
       " '2dbd0da7': '[\"How often does NomadFood update its pricing?\", \"Does NomadFood change prices frequently?\", \"How does NomadFood ensure competitive pricing?\", \"What are the factors that can affect NomadFood\\'s pricing for fresh products?\", \"How does NomadFood communicate pricing updates to retailers?\"]',\n",
       " 'c3b71089': '\"[\\\\\"What role does sustainability play in your business philosophy?\\\\\", \\\\\"Can you tell me about the sustainable farming practices your suppliers follow?\\\\\", \\\\\"How do your logistics operations contribute to environmental responsibility?\\\\\", \\\\\"What measures are you taking to reduce carbon emissions in your delivery routes?\\\\\", \\\\\"What steps are you taking towards achieving carbon-neutral operations?\\\\\"]\"',\n",
       " '29f61e69': '[\\n\"Do NomadFood\\'s packaging materials be recycled?\",\\n\"What efforts does NomadFood make towards eco-friendly packaging?\",\\n\"How does NomadFood minimize plastic usage in its supply chain?\",\\n\"Does NomadFood provide biodegradable packaging options?\",\\n\"What should NomadFood customers do with the company\\'s packaging to help reduce waste?\"\\n]',\n",
       " '751f7952': '[\\n\"Do NomadFood\\'s products come from fair trade-certified suppliers?\",\\n\"How does NomadFood support ethical sourcing?\",\\n\"What are the benefits of buying fair trade products from NomadFood?\",\\n\"How does NomadFood help promote sustainable livelihoods for workers?\",\\n\"In what ways does NomadFood ensure positive social and environmental impacts through fair trade?\"\\n]'}"
      ]
     },
     "execution_count": 53,
     "metadata": {},
     "output_type": "execute_result"
    }
   ],
   "source": [
    "results"
   ]
  },
  {
   "cell_type": "code",
   "execution_count": 55,
   "metadata": {},
   "outputs": [],
   "source": [
    "import json\n",
    "import pandas as pd\n",
    "import re\n",
    "\n",
    "parsed_results = {}\n",
    "\n",
    "# Function to clean improperly escaped JSON strings\n",
    "def clean_escaped_json_string(json_string):\n",
    "    # Remove excessive escaping of quotes (replacing \\\\\" with \")\n",
    "    cleaned_string = re.sub(r'\\\\\"', '\"', json_string)\n",
    "    \n",
    "    # Remove extra surrounding quotes if they exist\n",
    "    if cleaned_string.startswith('\"') and cleaned_string.endswith('\"'):\n",
    "        cleaned_string = cleaned_string[1:-1]\n",
    "    \n",
    "    return cleaned_string\n",
    "\n",
    "# Iterate over the results\n",
    "for doc_id, json_questions in results.items():\n",
    "    try:\n",
    "        # Clean the escaped JSON string\n",
    "        cleaned_json_questions = clean_escaped_json_string(json_questions)\n",
    "        \n",
    "        # Try to parse the cleaned json_questions\n",
    "        parsed_content = json.loads(cleaned_json_questions)\n",
    "        \n",
    "        # If the parsed_content is a dictionary, extract the questions key\n",
    "        if isinstance(parsed_content, dict) and \"questions\" in parsed_content:\n",
    "            parsed_results[doc_id] = parsed_content[\"questions\"]\n",
    "        else:\n",
    "            # Otherwise assume it is already a list of questions\n",
    "            parsed_results[doc_id] = parsed_content\n",
    "    except json.JSONDecodeError as e:\n",
    "        print(f\"Error decoding JSON for doc_id {doc_id}: {e}\")\n",
    "\n",
    "# Prepare final results list\n",
    "final_results = []\n",
    "\n",
    "# Collect questions and their associated document IDs\n",
    "for doc_id, questions in parsed_results.items():\n",
    "    for question in questions:\n",
    "        final_results.append((question, doc_id))\n",
    "\n",
    "# Create DataFrame and save to Excel\n",
    "df = pd.DataFrame(final_results, columns=['question', 'document'])\n",
    "df.to_excel('ground-truth-data.xlsx', index=False)\n"
   ]
  }
 ],
 "metadata": {
  "kernelspec": {
   "display_name": "llm_zoomcamp",
   "language": "python",
   "name": "python3"
  },
  "language_info": {
   "codemirror_mode": {
    "name": "ipython",
    "version": 3
   },
   "file_extension": ".py",
   "mimetype": "text/x-python",
   "name": "python",
   "nbconvert_exporter": "python",
   "pygments_lexer": "ipython3",
   "version": "3.11.9"
  }
 },
 "nbformat": 4,
 "nbformat_minor": 2
}
