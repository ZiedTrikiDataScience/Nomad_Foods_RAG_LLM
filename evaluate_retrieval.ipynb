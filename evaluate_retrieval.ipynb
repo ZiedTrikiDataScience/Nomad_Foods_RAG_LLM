{
 "cells": [
  {
   "cell_type": "code",
   "execution_count": 1,
   "metadata": {},
   "outputs": [],
   "source": [
    "import json\n",
    "\n",
    "with open('faq_data_with_ids.json', 'rt') as f_in:\n",
    "    documents = json.load(f_in)"
   ]
  },
  {
   "cell_type": "code",
   "execution_count": 2,
   "metadata": {},
   "outputs": [
    {
     "data": {
      "text/plain": [
       "{'company_name': 'NomadFoods Inc.',\n",
       " 'faq_data': [{'category': 'Products',\n",
       "   'questions': [{'question': 'What types of food products do you sell?',\n",
       "     'answer': \"We offer an extensive selection of food products across multiple categories to meet diverse customer needs. Our offerings include fresh fruits and vegetables sourced from local and international farms, dairy products like milk, cheese, and yogurt from certified suppliers, a variety of meats and seafood from both wild-caught and farm-raised sources, freshly baked goods such as breads, cakes, and pastries, as well as an array of packaged and frozen foods including snacks, cereals, pastas, and beverages. Whether you're a retailer looking to stock up on everyday essentials or specialty products, we have a wide inventory to support your needs.\",\n",
       "     'id': 'e063fa64'},\n",
       "    {'question': 'Are your products organic?',\n",
       "     'answer': 'Yes, we proudly offer both organic and non-organic products to cater to a wide range of consumer preferences. Our organic line features products like fruits, vegetables, grains, dairy, and meats, all certified by the USDA Organic program, ensuring they meet the highest standards for organic farming practices. Organic products are grown without synthetic pesticides, herbicides, or fertilizers, and they are non-GMO. Non-organic options are also available for those seeking more budget-friendly alternatives without compromising on quality.',\n",
       "     'id': '2bdb70ae'},\n",
       "    {'question': 'How do you ensure the freshness of your products?',\n",
       "     'answer': 'Maintaining product freshness is at the core of our operations. We have implemented an advanced cold-chain supply system that carefully monitors and controls temperature at every step, from harvesting at the farm to the moment it arrives on store shelves. Our distribution centers are outfitted with state-of-the-art refrigeration and temperature-controlled storage areas. Additionally, our logistics team optimizes delivery routes to minimize transit time, ensuring that perishable items maintain their freshness and nutritional quality throughout their journey.',\n",
       "     'id': 'e7bf8de2'},\n",
       "    {'question': 'Do you have gluten-free products?',\n",
       "     'answer': 'Absolutely! We understand the growing demand for gluten-free options, and as a result, we offer a diverse selection of gluten-free products. This includes gluten-free bread, pastas, snacks, and other baked goods that are carefully crafted using alternative grains like rice, quinoa, and almond flour. These products are rigorously tested to ensure they meet the required standards for gluten-free labeling, providing peace of mind to customers with gluten sensitivities or celiac disease.',\n",
       "     'id': 'fc0ac1ca'},\n",
       "    {'question': 'Do you offer locally sourced products?',\n",
       "     'answer': \"Yes, we are committed to supporting local agriculture through our 'Local Harvest' program. This initiative connects us with farmers located within a 100-mile radius of our distribution centers, ensuring that we offer fresh, seasonal produce and other locally made products. By sourcing locally, we not only provide customers with high-quality, regionally grown goods but also contribute to reducing carbon emissions related to long-distance transportation, supporting sustainable business practices.\",\n",
       "     'id': '43d24641'},\n",
       "    {'question': 'What types of specialty diets do your products cater to?',\n",
       "     'answer': 'We cater to a wide range of dietary preferences and restrictions, ensuring that all customers can find products suited to their needs. Our offerings include options for vegan and vegetarian diets, high-protein products for keto and paleo enthusiasts, low-sodium and heart-healthy selections, and a variety of allergen-free products. Each of these dietary-specific items is clearly labeled in our product catalog to help retailers and consumers easily identify products that align with their dietary goals or health requirements.',\n",
       "     'id': '7d2d98d4'}]},\n",
       "  {'category': 'Delivery',\n",
       "   'questions': [{'question': 'What is your delivery coverage area?',\n",
       "     'answer': 'We offer nationwide delivery, ensuring that all major cities and towns are covered by our service. For more remote or rural areas, we collaborate with trusted third-party logistics partners to extend our reach and ensure timely deliveries. No matter where you are located, we are committed to providing a seamless and efficient delivery experience.',\n",
       "     'id': 'a25036a3'},\n",
       "    {'question': 'What are your delivery times?',\n",
       "     'answer': \"Delivery times depend on your location and the volume of your order. In major cities, orders placed by 3 PM are typically delivered the next business day. For remote or less accessible locations, deliveries may take up to three business days. We work diligently to ensure all orders are delivered on time, and tracking information is provided to keep customers informed of their order's progress.\",\n",
       "     'id': 'e890e7e0'},\n",
       "    {'question': 'Can I track my order?',\n",
       "     'answer': 'Yes, we offer full transparency on all deliveries by providing tracking details for each order. Once your order is confirmed, you will receive a tracking ID via email. Simply visit the tracking section of our website and enter the tracking number to get real-time updates on your delivery status.',\n",
       "     'id': '4bfd22ad'},\n",
       "    {'question': 'How do you handle perishable items during delivery?',\n",
       "     'answer': \"Ensuring the quality of perishable items during transit is a top priority for us. We use temperature-controlled vehicles and insulated packaging to protect products that are sensitive to heat, cold, or humidity. Whether it's fresh produce, dairy, or frozen goods, we maintain the right conditions throughout the delivery process to ensure your products arrive fresh and in optimal condition.\",\n",
       "     'id': '17c3432c'},\n",
       "    {'question': \"What happens if I'm not available to receive my delivery?\",\n",
       "     'answer': \"In the event that you're unavailable to receive your delivery, our driver will attempt to leave the package in a safe, designated spot. For perishable goods, we make every effort to arrange redelivery or will return the products to our distribution center for safekeeping. If an issue arises, please contact our customer support team to arrange a convenient solution, including the option of rescheduling your delivery.\",\n",
       "     'id': '7e487efb'}]},\n",
       "  {'category': 'Pricing and Payments',\n",
       "   'questions': [{'question': 'Do you offer bulk pricing for retailers?',\n",
       "     'answer': 'Yes, we provide competitive bulk pricing for retailers, designed to accommodate businesses of various sizes. Our tiered discount system offers increased savings on larger orders, allowing retailers to maximize their profit margins. To inquire about customized pricing tailored to your needs, please get in touch with our sales team, who will work with you to create a pricing plan that fits your order size and frequency.',\n",
       "     'id': '4fe624c6'},\n",
       "    {'question': 'What payment methods do you accept?',\n",
       "     'answer': 'We accept a variety of payment methods to make transactions as convenient as possible for our customers. This includes major credit cards (Visa, MasterCard, American Express), wire transfers, PayPal, and other secure payment platforms. For retailers with established credit terms, we also offer flexible invoicing options, subject to approval.',\n",
       "     'id': '4950626e'},\n",
       "    {'question': 'Is there a minimum order requirement?',\n",
       "     'answer': 'Yes, we have a minimum order requirement to ensure the efficiency of our delivery service. For nationwide deliveries, the minimum order value is $500. For local deliveries, the minimum is set at $200. These thresholds help us maintain affordable pricing and logistical efficiency while delivering high-quality products.',\n",
       "     'id': '61885111'},\n",
       "    {'question': 'Do you offer refunds for damaged products?',\n",
       "     'answer': 'Yes, if you receive damaged products, please notify us within 24 hours of delivery. We will offer either a full refund or a replacement, depending on your preference. Customer satisfaction is paramount, and we strive to resolve any issues quickly and fairly to maintain your trust and business.',\n",
       "     'id': '44413b49'},\n",
       "    {'question': 'Do you have a loyalty program for frequent buyers?',\n",
       "     'answer': 'Yes, we offer a loyalty program for retailers that rewards frequent purchases. Our tiered system provides increasing benefits as your order volume grows, including perks such as priority delivery, early access to new products, and exclusive promotions. Loyalty program members also enjoy special pricing on high-demand items, making it a great option for retailers who place regular orders.',\n",
       "     'id': '3c901cb6'},\n",
       "    {'question': 'How often do you update your pricing?',\n",
       "     'answer': 'We review and adjust our pricing quarterly to ensure we remain competitive in the market. However, prices on certain fresh products like fruits and vegetables may fluctuate more frequently based on seasonal availability, market demand, and supply chain conditions. Our pricing updates are communicated transparently, allowing retailers to stay informed and plan their purchasing accordingly.',\n",
       "     'id': '2dbd0da7'}]},\n",
       "  {'category': 'Sustainability',\n",
       "   'questions': [{'question': 'What sustainability practices do you follow?',\n",
       "     'answer': 'Sustainability is a key part of our business philosophy. We partner with suppliers who follow environmentally responsible practices, including sustainable farming techniques that protect natural resources and promote biodiversity. Our logistics operations prioritize reducing carbon emissions by optimizing delivery routes and using eco-friendly packaging materials wherever possible. Additionally, we are working towards achieving carbon-neutral operations in the near future.',\n",
       "     'id': 'c3b71089'},\n",
       "    {'question': 'Do you offer recyclable packaging?',\n",
       "     'answer': 'Yes, our commitment to the environment extends to the packaging we use. All of our packaging materials are recyclable, and we are continuously exploring ways to reduce plastic usage across our supply chain. We also offer biodegradable alternatives for certain products and encourage our customers to recycle or reuse our packaging to help minimize waste.',\n",
       "     'id': '29f61e69'},\n",
       "    {'question': 'Do you support fair trade practices?',\n",
       "     'answer': 'Yes, many of our products are sourced from fair trade-certified suppliers. We believe in the importance of ethical sourcing, which is why we partner with producers who pay fair wages, support safe working conditions, and promote sustainable livelihoods for their workers. By offering fair trade products, we help foster positive social and environmental impacts across our supply chain.',\n",
       "     'id': '751f7952'}]}]}"
      ]
     },
     "execution_count": 2,
     "metadata": {},
     "output_type": "execute_result"
    }
   ],
   "source": [
    "documents"
   ]
  },
  {
   "cell_type": "code",
   "execution_count": 11,
   "metadata": {},
   "outputs": [
    {
     "data": {
      "application/vnd.jupyter.widget-view+json": {
       "model_id": "8e270adf9f0f4660adfc0f0544a2b387",
       "version_major": 2,
       "version_minor": 0
      },
      "text/plain": [
       "  0%|          | 0/4 [00:00<?, ?it/s]"
      ]
     },
     "metadata": {},
     "output_type": "display_data"
    },
    {
     "data": {
      "application/vnd.jupyter.widget-view+json": {
       "model_id": "07fd48bcf0004d35bb475f92610957bb",
       "version_major": 2,
       "version_minor": 0
      },
      "text/plain": [
       "  0%|          | 0/100 [00:00<?, ?it/s]"
      ]
     },
     "metadata": {},
     "output_type": "display_data"
    },
    {
     "name": "stdout",
     "output_type": "stream",
     "text": [
      "{'hit_rate': 0.97, 'mrr': 0.8356666666666664}\n"
     ]
    }
   ],
   "source": [
    "import json\n",
    "import numpy as np\n",
    "import faiss\n",
    "from sentence_transformers import SentenceTransformer\n",
    "from tqdm.auto import tqdm\n",
    "import pandas as pd\n",
    "\n",
    "# Load documents\n",
    "with open('faq_data_with_ids.json', 'rt') as f_in:\n",
    "    documents = json.load(f_in)\n",
    "\n",
    "# Initialize sentence transformer model\n",
    "model_name = 'all-mpnet-base-v2'\n",
    "model = SentenceTransformer(model_name)\n",
    "\n",
    "# Extract and encode the question and text data\n",
    "questions = []\n",
    "vectors = []\n",
    "doc_ids = []\n",
    "\n",
    "# Iterate through the FAQ data\n",
    "for faq in tqdm(documents['faq_data']):  # Access 'faq_data' key\n",
    "    for question_data in faq['questions']:\n",
    "        questions.append(question_data['question'])\n",
    "        vectors.append(model.encode(question_data['question']))\n",
    "        doc_ids.append(question_data.get('id', 'unknown'))  # Use a fallback if 'id' is missing\n",
    "\n",
    "# Convert vectors list into a NumPy array\n",
    "vectors_np = np.array(vectors)\n",
    "\n",
    "# Build FAISS index\n",
    "vector_dimension = vectors_np.shape[1]  # Dimensionality of vectors (384 in this case)\n",
    "index = faiss.IndexFlatL2(vector_dimension)  # L2 distance metric for FAISS\n",
    "index.add(vectors_np)  # Add vectors to the index\n",
    "\n",
    "# Function to perform FAISS search\n",
    "def faiss_search(query_vector, top_k=5):\n",
    "    query_vector_np = np.array([query_vector])  # Convert query to NumPy array\n",
    "    distances, indices = index.search(query_vector_np, top_k)  # Perform search\n",
    "    return indices, distances\n",
    "\n",
    "# Function to search for the most similar documents\n",
    "def faiss_knn_search(query, top_k=5):\n",
    "    query_vector = model.encode(query)\n",
    "    indices, distances = faiss_search(query_vector, top_k)\n",
    "    \n",
    "    result_docs = []\n",
    "    for idx in indices[0]:  # indices[0] since FAISS returns a 2D array\n",
    "        result_docs.append({\n",
    "            'id': doc_ids[idx],\n",
    "            'question': questions[idx]\n",
    "        })\n",
    "    return result_docs\n",
    "\n",
    "# Load ground truth data for evaluation\n",
    "df_ground_truth = pd.read_csv('ground-truth-data.csv')\n",
    "ground_truth = df_ground_truth.to_dict(orient='records')\n",
    "\n",
    "# Evaluation metrics (hit rate and MRR)\n",
    "def hit_rate(relevance_total):\n",
    "    cnt = 0\n",
    "    for line in relevance_total:\n",
    "        if True in line:\n",
    "            cnt += 1\n",
    "    return cnt / len(relevance_total)\n",
    "\n",
    "def mrr(relevance_total):\n",
    "    total_score = 0.0\n",
    "    for line in relevance_total:\n",
    "        for rank in range(len(line)):\n",
    "            if line[rank] == True:\n",
    "                total_score += 1 / (rank + 1)\n",
    "                break\n",
    "    return total_score / len(relevance_total)\n",
    "\n",
    "# Evaluation function\n",
    "def evaluate(ground_truth, search_function):\n",
    "    relevance_total = []\n",
    "    for q in tqdm(ground_truth):\n",
    "        doc_id = q['document']\n",
    "        results = search_function(q['question'])\n",
    "        relevance = [d['id'] == doc_id for d in results]\n",
    "        relevance_total.append(relevance)\n",
    "    return {\n",
    "        'hit_rate': hit_rate(relevance_total),\n",
    "        'mrr': mrr(relevance_total),\n",
    "    }\n",
    "\n",
    "# Evaluate using FAISS\n",
    "evaluation_results = evaluate(ground_truth, faiss_knn_search)\n",
    "print(evaluation_results)\n"
   ]
  }
 ],
 "metadata": {
  "kernelspec": {
   "display_name": "llm_zoomcamp",
   "language": "python",
   "name": "python3"
  },
  "language_info": {
   "codemirror_mode": {
    "name": "ipython",
    "version": 3
   },
   "file_extension": ".py",
   "mimetype": "text/x-python",
   "name": "python",
   "nbconvert_exporter": "python",
   "pygments_lexer": "ipython3",
   "version": "3.11.9"
  }
 },
 "nbformat": 4,
 "nbformat_minor": 2
}
